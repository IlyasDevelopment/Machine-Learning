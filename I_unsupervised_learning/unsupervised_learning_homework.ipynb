{
  "nbformat": 4,
  "nbformat_minor": 0,
  "metadata": {
    "colab": {
      "name": "HW10 \"Task_10.ipynb\"",
      "provenance": [],
      "collapsed_sections": []
    },
    "kernelspec": {
      "name": "python3",
      "display_name": "Python 3"
    }
  },
  "cells": [
    {
      "cell_type": "markdown",
      "metadata": {
        "id": "rEBJMPpFJbrC"
      },
      "source": [
        "Скачайте двнные классификации листьев растений по ссылке.\n",
        "https://archive.ics.uci.edu/ml/machine-learning-databases/00241/"
      ]
    },
    {
      "cell_type": "markdown",
      "metadata": {
        "id": "bdxYP4mnLLnc"
      },
      "source": [
        "Загрузим файл `data_Mar_64.txt`."
      ]
    },
    {
      "cell_type": "code",
      "metadata": {
        "id": "doQ_W-xxJXA-",
        "colab": {
          "resources": {
            "http://localhost:8080/nbextensions/google.colab/files.js": {
              "data": "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",
              "ok": true,
              "headers": [
                [
                  "content-type",
                  "application/javascript"
                ]
              ],
              "status": 200,
              "status_text": ""
            }
          },
          "base_uri": "https://localhost:8080/",
          "height": 73
        },
        "outputId": "0db62648-010e-4d4a-a701-6ed0f9d15209"
      },
      "source": [
        "import pandas as pd\n",
        "import numpy as np\n",
        "from google.colab import files\n",
        "uploder = files.upload()"
      ],
      "execution_count": null,
      "outputs": [
        {
          "output_type": "display_data",
          "data": {
            "text/html": [
              "\n",
              "     <input type=\"file\" id=\"files-c7ec7491-8fbf-4177-a5dd-2c2b9d9e0546\" name=\"files[]\" multiple disabled\n",
              "        style=\"border:none\" />\n",
              "     <output id=\"result-c7ec7491-8fbf-4177-a5dd-2c2b9d9e0546\">\n",
              "      Upload widget is only available when the cell has been executed in the\n",
              "      current browser session. Please rerun this cell to enable.\n",
              "      </output>\n",
              "      <script src=\"/nbextensions/google.colab/files.js\"></script> "
            ],
            "text/plain": [
              "<IPython.core.display.HTML object>"
            ]
          },
          "metadata": {
            "tags": []
          }
        },
        {
          "output_type": "stream",
          "text": [
            "Saving data_Mar_64.txt to data_Mar_64.txt\n"
          ],
          "name": "stdout"
        }
      ]
    },
    {
      "cell_type": "code",
      "metadata": {
        "id": "LqIPU1u3LTvw"
      },
      "source": [
        "data = pd.read_csv('data_Mar_64.txt', header=None)"
      ],
      "execution_count": null,
      "outputs": []
    },
    {
      "cell_type": "markdown",
      "metadata": {
        "id": "XbfwGI1DLde-"
      },
      "source": [
        "\n",
        "Первый столбец - ответ, положим его в отдельную переменную."
      ]
    },
    {
      "cell_type": "code",
      "metadata": {
        "id": "9odhGSeDLZ7Z"
      },
      "source": [
        "X, y_name = np.array(data.iloc[:, 1:]), data.iloc[:, 0]"
      ],
      "execution_count": null,
      "outputs": []
    },
    {
      "cell_type": "markdown",
      "metadata": {
        "id": "tQkOp6aaLjkM"
      },
      "source": [
        "Целевая переменная принимает текстовое значение. С помощью `LabelEncoder` из `sklearn` закодируй тектовую переменную `y_name` и сохраните полученные значения в переменную `y`."
      ]
    },
    {
      "cell_type": "code",
      "metadata": {
        "id": "d3lpnP_cLf7R",
        "colab": {
          "base_uri": "https://localhost:8080/"
        },
        "outputId": "106b9fdf-2088-40a9-da30-4524a07a0305"
      },
      "source": [
        "from sklearn import preprocessing\n",
        "\n",
        "le = preprocessing.LabelEncoder()\n",
        "le.fit(y_name)\n",
        "y = le.transform(y_name)"
      ],
      "execution_count": null,
      "outputs": [
        {
          "output_type": "execute_result",
          "data": {
            "text/plain": [
              "2"
            ]
          },
          "metadata": {
            "tags": []
          },
          "execution_count": 14
        }
      ]
    },
    {
      "cell_type": "markdown",
      "metadata": {
        "id": "_VUAb6X5L22Y"
      },
      "source": [
        "С помощью метода главных компонент снизьте размерность признакового пространства до двух. Зафиксируйте `random_state=0`"
      ]
    },
    {
      "cell_type": "code",
      "metadata": {
        "id": "-swp11CwL4m9"
      },
      "source": [
        "from sklearn.decomposition import PCA\n",
        "\n",
        "pca = PCA(n_components=2, random_state=0)\n",
        "data_2d = pca.fit_transform(X)"
      ],
      "execution_count": null,
      "outputs": []
    },
    {
      "cell_type": "markdown",
      "metadata": {
        "id": "mxB7QDkPL9TK"
      },
      "source": [
        "Выберите объекты, которые соответствуют значениям от 0 до 14 целевой переменной `y`. Изобразите выбранные объекты в двумерном пространстве признаков с помощью метода `scatter` из `matplotlib.pyplot`. Чтобы разным цветом отобразить объекты разных классов, в метод `scatter` передайте `c = y[y<15]`."
      ]
    },
    {
      "cell_type": "code",
      "metadata": {
        "colab": {
          "base_uri": "https://localhost:8080/"
        },
        "id": "X8wPdaauHgX8",
        "outputId": "4451dd7e-5192-40c8-fe37-2902a29668dc"
      },
      "source": [
        "print(data_2d)"
      ],
      "execution_count": null,
      "outputs": [
        {
          "output_type": "stream",
          "text": [
            "[[-0.03307489  0.02892331]\n",
            " [-0.02422727  0.01839179]\n",
            " [-0.02629431  0.03441262]\n",
            " ...\n",
            " [-0.06300588 -0.05859334]\n",
            " [-0.03770296 -0.05299064]\n",
            " [-0.03348526 -0.03997298]]\n"
          ],
          "name": "stdout"
        }
      ]
    },
    {
      "cell_type": "code",
      "metadata": {
        "id": "bG3APeNYMaKd",
        "colab": {
          "base_uri": "https://localhost:8080/",
          "height": 596
        },
        "outputId": "3d9c4876-6794-4c13-a7b4-92cb20d5c883"
      },
      "source": [
        "import matplotlib.pyplot as plt\n",
        "\n",
        "plt.figure(figsize=(13, 10))\n",
        "plt.scatter(data_2d[:, 0][y<15], data_2d[:, 1][y<15], c=y[y<15])\n",
        "plt.colorbar()\n",
        "plt.show()"
      ],
      "execution_count": null,
      "outputs": [
        {
          "output_type": "display_data",
          "data": {
            "image/png": "[encoded data removed]",
            "text/plain": [
              "<Figure size 936x720 with 2 Axes>"
            ]
          },
          "metadata": {
            "tags": [],
            "needs_background": "light"
          }
        }
      ]
    },
    {
      "cell_type": "markdown",
      "metadata": {
        "id": "r45lDZ-iM9up"
      },
      "source": [
        "Проделайте тоже самое для метода TSNE."
      ]
    },
    {
      "cell_type": "code",
      "metadata": {
        "id": "l_rK6LA6M_qR",
        "colab": {
          "base_uri": "https://localhost:8080/",
          "height": 596
        },
        "outputId": "0a4e3bb4-9f46-4bb5-b8eb-b957cf338b71"
      },
      "source": [
        "from sklearn.manifold import TSNE\n",
        "\n",
        "tsne = TSNE(n_components=2, random_state=0)\n",
        "data_2d = tsne.fit_transform(X)\n",
        "\n",
        "plt.figure(figsize=(13, 10))\n",
        "plt.scatter(data_2d[:, 0][y<15], data_2d[:, 1][y<15], c=y[y<15])\n",
        "plt.colorbar()\n",
        "plt.show()"
      ],
      "execution_count": null,
      "outputs": [
        {
          "output_type": "display_data",
          "data": {
            "image/png": "[encoded data removed]",
            "text/plain": [
              "<Figure size 936x720 with 2 Axes>"
            ]
          },
          "metadata": {
            "tags": [],
            "needs_background": "light"
          }
        }
      ]
    },
    {
      "cell_type": "markdown",
      "metadata": {
        "id": "g0_Af5sHNUlO"
      },
      "source": [
        "1. Укажите координаты объекта с индексом 0 (`X[0]`) после применения метода TSNE. Округлите числа до сотых."
      ]
    },
    {
      "cell_type": "code",
      "metadata": {
        "id": "I9M5WNlKNjX4",
        "colab": {
          "base_uri": "https://localhost:8080/"
        },
        "outputId": "cf634624-6d86-44c2-adcc-8aa22dd02d2a"
      },
      "source": [
        "data_2d[0]"
      ],
      "execution_count": null,
      "outputs": [
        {
          "output_type": "execute_result",
          "data": {
            "text/plain": [
              "array([-7.1163464, 15.603844 ], dtype=float32)"
            ]
          },
          "metadata": {
            "tags": []
          },
          "execution_count": 21
        }
      ]
    },
    {
      "cell_type": "markdown",
      "metadata": {
        "id": "y5A04DVNNnMj"
      },
      "source": [
        "2. Укажите координаты объекта с индексом 0 (X[0]) после применения метода PCA. Округлите числа до сотых."
      ]
    },
    {
      "cell_type": "code",
      "metadata": {
        "id": "VwMXzSezNq4E",
        "colab": {
          "base_uri": "https://localhost:8080/"
        },
        "outputId": "e2dd78ac-f014-4d0c-b0ad-576142dd5168"
      },
      "source": [
        "data_2d[0]"
      ],
      "execution_count": null,
      "outputs": [
        {
          "output_type": "execute_result",
          "data": {
            "text/plain": [
              "array([-0.03307489,  0.02892331])"
            ]
          },
          "metadata": {
            "tags": []
          },
          "execution_count": 23
        }
      ]
    },
    {
      "cell_type": "markdown",
      "metadata": {
        "id": "OTsEDhIoNt_0"
      },
      "source": [
        "3. Какие выводы можно сделать из полученных изображений?\n",
        "- С мпомощью метода главных компонет удалось визуализировать объекты на плоскоти и объекты разных класов визуально разделимы \n",
        "\n",
        "- **С мпомощью метода TSNE удалось визуализировать объекты на плоскоти и объекты разных класов визуально разделимы**\n",
        "\n",
        "- С мпомощью методов TSNE и PCA удалось визуализировать объекты на плоскоти и объекты разных класов визуально разделимы\n",
        "\n",
        "- С мпомощью методов TSNE и PCA удалось визуализировать объекты на плоскоти и объекты разных класов визуально не разделимы\n"
      ]
    },
    {
      "cell_type": "markdown",
      "metadata": {
        "id": "5bwVle82N2q5"
      },
      "source": [
        "## K_means"
      ]
    },
    {
      "cell_type": "markdown",
      "metadata": {
        "id": "BOKjfTuIN4DT"
      },
      "source": [
        "Реализуйте класс MyKMeans.\n",
        "\n",
        "Класс должен соответствовать шаблону, который приведен ниже\n",
        "\n",
        "В конструктор класса передаются:\n",
        "- n_clusters - число кластеров, на которое будут разбиты данные\n",
        "\n",
        "- n_iters - максимальное число итераций, может быть сделано в данном алгоритме\n",
        "\n",
        "В методе `fit`:\n",
        "\n",
        "- self.centers - центры кластеров, которые пересчитываются на каждой итерации. Изначально выбираются случайным образом с фиксированным seed.\n",
        "\n",
        "далее в цикле по числу итераций вам необходимо реализовать:\n",
        "-  вычисление ближайшего центра кластера для каждого объекта\n",
        "- пересчет центра каждого кластера( среднее каждой из координат всех объектов, отнесенных к этому кластеру)\n",
        "посчитанные новые центры кластеров положите в переменную `new_centers`\n",
        "\n",
        "В методе `predict`:\n",
        "\n",
        "вычисляются ближайшие центры кластеров для объектов `X`\n",
        "\n",
        "\n"
      ]
    },
    {
      "cell_type": "code",
      "metadata": {
        "id": "J0Cq94nsWHCO"
      },
      "source": [
        "from sklearn.metrics import pairwise_distances_argmin\n",
        "np.random.seed(0)\n",
        "n_clusters=3\n",
        "centers = np.random.uniform(low=X.min(axis = 0),\n",
        "                            high=X.max(axis = 0),\n",
        "                            size=(n_clusters, X.shape[1]))\n",
        "\n",
        "centers_objects = {k: [] for k in range(len(centers))}\n",
        "for i in range(len(X)):\n",
        "  closest_center = pairwise_distances_argmin(X[i].reshape(1, -1), centers)[0]\n",
        "  centers_objects[closest_center].append(i)\n",
        "print(X[centers_objects[0][0]][0])\n",
        "print(X[262][0])\n",
        "sum_values = [0.0] * 7\n",
        "\n",
        "print(sum_values)\n",
        "new_centers = []\n",
        "coords_number = len(X[0])\n",
        "for i in range(len(centers)):\n",
        "  sum_values = [0.0] * 64\n",
        "  for j in range(len(centers_objects[i])):\n",
        "    for k in range(64):\n",
        "      sum_values[k] += X[centers_objects[i][j]][k]\n",
        "  mean_values = [m/len(centers_objects[i]) for m in sum_values]\n",
        "  new_centers.append(mean_values)\n",
        "print(new_centers)\n",
        "print(len(new_centers))"
      ],
      "execution_count": null,
      "outputs": []
    },
    {
      "cell_type": "code",
      "metadata": {
        "colab": {
          "base_uri": "https://localhost:8080/"
        },
        "id": "8kV-6z6Bi-jf",
        "outputId": "7993c18d-6c77-4b68-eddb-a423af57214d"
      },
      "source": [
        "data = {k: [] for k in range(len(centers))}\n",
        "data"
      ],
      "execution_count": null,
      "outputs": [
        {
          "output_type": "execute_result",
          "data": {
            "text/plain": [
              "{0: [], 1: []}"
            ]
          },
          "metadata": {
            "tags": []
          },
          "execution_count": 46
        }
      ]
    },
    {
      "cell_type": "code",
      "metadata": {
        "id": "CjdGMH6wNuaM"
      },
      "source": [
        "from sklearn.metrics import pairwise_distances_argmin\n",
        "class MyKMeans():\n",
        "  def __init__(self, n_clusters=3, n_iters = 100):\n",
        "    self.n_clusters = n_clusters\n",
        "    self.n_iters = n_iters\n",
        "    \n",
        "  def fit(self, X):\n",
        "    np.random.seed(0)\n",
        "    self.centers = np.random.uniform(low=X.min(axis = 0),\n",
        "                                high=X.max(axis = 0),\n",
        "                                size=(self.n_clusters, X.shape[1]))\n",
        "\n",
        "    for it in range(self.n_iters):\n",
        "    \n",
        "      ## your code here\n",
        "      centers_objects = {k: [] for k in range(len(self.centers))}\n",
        "      for i in range(len(X)):\n",
        "        closest_center = pairwise_distances_argmin(X[i].reshape(1, -1), self.centers)[0]\n",
        "        centers_objects[closest_center].append(i)\n",
        "      new_centers = []\n",
        "      coords_number = len(X[0])\n",
        "      for i in range(len(self.centers)):\n",
        "        sum_values = [0.0] * coords_number\n",
        "        for j in range(len(centers_objects[i])):\n",
        "          for k in range(coords_number):\n",
        "            sum_values[k] += X[centers_objects[i][j]][k]\n",
        "        mean_values = [m/len(centers_objects[i]) for m in sum_values]\n",
        "        new_centers.append(mean_values)\n",
        "        \n",
        "      if np.all(self.centers == new_centers):\n",
        "        break\n",
        "\n",
        "      self.centers = new_centers\n",
        "\n",
        "\n",
        "  def predict(self, X):\n",
        "    labels = pairwise_distances_argmin(X, self.centers)\n",
        "    return labels"
      ],
      "execution_count": null,
      "outputs": []
    },
    {
      "cell_type": "markdown",
      "metadata": {
        "id": "-CHFE6_jS2z9"
      },
      "source": [
        "Сгенерируем данные для кластеризации"
      ]
    },
    {
      "cell_type": "code",
      "metadata": {
        "id": "fZB9RQ1vS1-n"
      },
      "source": [
        "from sklearn import datasets\n",
        "n_samples = 1000\n",
        "\n",
        "noisy_blobs = datasets.make_blobs(n_samples=n_samples,\n",
        "                             cluster_std=[1.0, 3.0, 0.5],\n",
        "                             random_state=0)"
      ],
      "execution_count": null,
      "outputs": []
    },
    {
      "cell_type": "code",
      "metadata": {
        "id": "wQN-2l2eS8Qq"
      },
      "source": [
        "X, y = noisy_blobs"
      ],
      "execution_count": null,
      "outputs": []
    },
    {
      "cell_type": "markdown",
      "metadata": {
        "id": "AUi15fgNTBmu"
      },
      "source": [
        "4. Кластеризуйте объекты noisy_blobs с помощью `MyKMeans`, используйте гиперпараметры `n_clusters=3`, `n_iters=100`. Укажите ответ для объекта с индексом 1."
      ]
    },
    {
      "cell_type": "code",
      "metadata": {
        "id": "VJlQezHTS83L",
        "colab": {
          "base_uri": "https://localhost:8080/"
        },
        "outputId": "d3de808d-0dfd-436c-b961-e6b193427ab9"
      },
      "source": [
        "mymk = MyKMeans(n_clusters=3, n_iters=100)\n",
        "mymk.fit(X)\n",
        "hundred_iters = mymk.predict(X)\n",
        "print(hundred_iters)\n",
        "print(len(X))"
      ],
      "execution_count": null,
      "outputs": [
        {
          "output_type": "stream",
          "text": [
            "[2 0 2 2 2 0 2 0 1 0 2 2 2 2 0 1 2 2 0 0 2 1 2 0 0 2 2 2 0 1 2 2 2 0 2 1 0\n",
            " 2 2 1 2 1 2 2 0 1 0 2 0 1 0 0 1 0 0 0 1 2 2 1 2 2 2 2 2 0 1 1 2 2 0 0 0 2\n",
            " 0 2 0 0 2 2 2 0 0 0 0 0 0 1 0 1 0 1 1 2 0 2 0 2 0 2 0 2 2 1 0 0 2 0 1 1 0\n",
            " 0 0 2 2 2 0 2 0 1 0 1 2 2 0 0 2 2 2 0 0 2 0 0 2 0 2 2 2 2 0 2 0 2 2 2 0 0\n",
            " 2 0 0 2 0 0 0 2 0 1 2 2 0 0 0 0 0 0 2 0 0 1 1 2 2 2 2 0 0 0 2 2 0 0 0 1 1\n",
            " 0 2 0 2 0 2 2 1 2 2 0 2 2 2 1 0 2 2 0 0 2 2 2 1 0 2 0 0 0 0 2 0 2 2 0 2 0\n",
            " 2 2 0 1 2 0 0 2 2 0 2 2 0 1 0 1 2 2 2 2 2 2 0 2 2 2 1 0 2 0 2 2 2 0 0 2 2\n",
            " 1 0 1 1 1 0 1 2 2 2 0 2 2 2 2 2 2 0 1 2 2 0 0 1 0 2 0 2 2 1 2 0 2 0 1 1 0\n",
            " 0 1 0 1 2 1 1 2 0 0 1 0 0 0 2 0 2 0 2 1 2 1 0 1 0 2 2 0 0 2 1 2 0 0 2 2 2\n",
            " 2 0 2 0 2 2 1 0 2 0 2 1 1 0 0 0 1 0 0 2 2 0 2 0 0 0 0 1 2 0 1 2 2 2 2 0 1\n",
            " 0 1 2 0 2 2 2 2 2 2 0 2 2 1 0 2 2 1 2 1 2 2 0 0 0 2 2 2 1 1 1 0 0 0 2 2 0\n",
            " 1 1 2 0 0 2 0 2 0 0 2 1 2 2 2 1 0 0 2 2 0 1 2 2 2 2 2 2 2 2 2 0 1 0 2 0 0\n",
            " 0 2 2 0 1 2 2 0 2 0 0 0 1 2 2 2 2 2 2 2 0 2 0 0 0 0 0 0 1 0 1 0 0 0 2 2 1\n",
            " 2 2 2 2 0 1 1 2 2 1 0 2 0 1 1 2 2 0 2 0 2 2 1 2 0 1 0 2 0 0 2 1 1 2 2 0 2\n",
            " 0 2 0 0 2 0 0 1 0 1 0 2 0 2 1 2 2 0 2 0 2 0 0 0 1 0 2 2 2 2 1 0 2 0 2 2 2\n",
            " 2 0 2 0 2 1 1 0 0 1 2 1 1 2 2 0 1 2 2 1 2 0 1 0 0 1 2 2 1 2 0 0 2 1 2 2 0\n",
            " 2 0 1 2 2 2 2 2 0 1 0 1 0 2 2 0 1 2 2 2 0 1 1 0 0 0 2 1 2 2 2 2 2 2 1 2 2\n",
            " 2 2 2 2 0 0 1 1 1 2 0 1 0 0 0 0 0 2 2 2 0 0 0 2 2 0 1 2 2 2 2 2 2 0 1 1 0\n",
            " 2 1 2 0 2 1 1 0 0 2 1 2 0 1 2 2 2 0 1 0 0 2 2 2 0 2 2 1 1 0 0 1 2 2 0 0 2\n",
            " 1 2 0 2 2 0 2 0 0 0 0 1 2 2 0 1 0 2 1 1 2 1 2 1 0 2 0 0 1 0 0 2 0 0 0 1 2\n",
            " 0 0 2 1 1 2 2 0 2 0 0 0 1 1 1 0 0 2 0 0 2 0 2 2 1 2 2 2 0 0 0 1 2 0 0 2 1\n",
            " 0 2 2 2 1 0 2 2 0 1 2 2 0 1 2 0 2 2 0 2 0 2 2 2 0 1 0 2 2 2 0 0 2 0 0 0 1\n",
            " 0 1 2 0 1 2 2 2 0 2 1 2 1 0 1 0 0 0 2 2 2 0 1 0 0 1 1 1 1 0 1 2 1 2 2 2 2\n",
            " 2 0 1 2 0 2 2 2 0 2 0 2 2 2 0 0 2 2 1 2 2 1 2 2 2 1 1 0 0 1 1 2 0 0 1 2 1\n",
            " 0 2 1 2 2 2 0 0 0 1 2 0 0 2 1 0 2 2 2 0 2 0 2 2 1 0 0 2 2 0 2 1 2 1 0 0 0\n",
            " 0 1 0 2 1 2 0 1 2 1 2 1 1 1 0 0 2 2 2 1 1 0 0 2 0 0 2 2 2 1 0 1 2 2 2 2 0\n",
            " 2 1 0 2 0 0 0 0 1 2 0 1 2 1 1 2 1 2 2 2 2 2 2 1 2 0 2 0 1 2 2 2 2 1 2 2 2\n",
            " 2]\n",
            "1000\n"
          ],
          "name": "stdout"
        }
      ]
    },
    {
      "cell_type": "markdown",
      "metadata": {
        "id": "joULp7G4TM6X"
      },
      "source": [
        "5. Кластеризуйте объекты noisy_blobs, используйте гиперпараметры n_clusters=3, n_iters = 5. Укажите ответ для объекта с индексом 1."
      ]
    },
    {
      "cell_type": "code",
      "metadata": {
        "id": "7jRbT4iWTPo_",
        "colab": {
          "base_uri": "https://localhost:8080/"
        },
        "outputId": "14a6e5f9-d0de-4e0f-8bd1-cf0d54c53491"
      },
      "source": [
        "mymk = MyKMeans(n_clusters=3, n_iters=5)\n",
        "mymk.fit(X)\n",
        "five_iters = mymk.predict(X)\n",
        "print(five_iters)"
      ],
      "execution_count": null,
      "outputs": [
        {
          "output_type": "stream",
          "text": [
            "[2 0 2 2 2 2 2 0 1 0 2 2 2 2 0 1 2 2 0 0 2 1 2 0 0 2 2 2 0 1 2 2 2 0 2 1 0\n",
            " 2 2 1 2 1 2 2 0 1 0 2 0 1 0 0 1 0 0 0 1 2 2 1 2 2 2 2 2 0 1 1 2 2 0 0 0 2\n",
            " 0 2 2 0 2 2 2 2 0 0 0 0 0 1 0 1 2 1 1 2 0 2 0 2 0 2 0 2 2 1 0 0 2 0 1 1 0\n",
            " 0 0 2 2 2 0 2 0 1 0 1 2 2 0 0 2 2 2 0 0 2 0 0 2 0 2 2 2 2 0 2 0 2 2 2 0 0\n",
            " 2 0 0 2 0 0 0 2 0 1 2 2 0 0 0 0 0 0 2 0 0 1 1 2 2 2 2 0 0 0 2 2 0 0 0 1 1\n",
            " 0 2 0 2 0 2 2 1 2 2 0 2 2 2 1 0 2 2 0 0 2 2 2 1 0 2 0 0 0 0 2 0 2 2 0 2 0\n",
            " 2 2 0 1 2 0 0 2 2 0 2 2 0 1 0 1 2 2 2 2 2 2 0 2 2 2 1 0 2 0 2 2 1 0 0 2 2\n",
            " 1 0 1 1 1 0 1 2 2 2 2 2 2 2 2 2 2 0 1 2 2 0 0 1 0 2 0 2 2 1 2 0 2 0 1 1 0\n",
            " 0 1 0 1 2 1 1 2 0 0 1 0 0 0 2 0 2 0 2 1 2 1 0 1 0 2 2 0 0 2 0 2 0 0 2 2 2\n",
            " 2 0 2 0 2 2 1 0 2 0 2 1 1 0 0 0 1 0 0 2 2 0 2 0 0 0 1 1 2 0 1 2 2 2 2 0 1\n",
            " 0 1 2 0 2 2 2 2 2 2 0 2 2 1 0 2 2 1 2 1 2 2 0 0 0 2 2 2 1 1 1 0 0 0 2 2 0\n",
            " 1 1 2 0 0 2 0 2 0 0 2 1 2 2 2 1 0 0 2 2 0 1 2 2 2 2 2 2 2 2 2 0 1 0 2 0 2\n",
            " 0 2 2 0 1 2 2 0 2 0 0 0 1 2 2 2 2 2 2 2 0 2 0 0 0 0 0 0 1 0 1 0 0 0 2 2 1\n",
            " 2 2 2 2 0 1 1 2 2 1 0 2 0 1 1 2 2 0 2 0 2 2 1 2 0 1 0 2 0 0 2 1 1 2 2 0 2\n",
            " 0 2 0 0 2 0 0 1 0 1 0 2 0 2 1 2 2 0 2 0 2 0 0 0 1 0 2 2 2 2 1 0 2 0 2 2 2\n",
            " 2 0 2 0 2 1 1 0 0 1 2 1 1 2 2 0 1 2 2 1 2 2 1 0 0 1 2 2 1 2 0 0 2 1 2 2 0\n",
            " 2 0 1 2 2 2 2 2 0 1 0 0 0 2 2 0 1 2 2 2 0 1 1 0 0 0 2 1 2 2 2 2 2 2 1 2 2\n",
            " 2 2 2 2 0 0 1 1 1 2 0 1 0 0 0 0 0 2 2 2 0 0 0 2 2 0 1 2 2 2 2 2 2 0 1 1 0\n",
            " 2 1 2 0 2 1 1 0 0 2 1 2 0 1 2 2 2 0 1 0 0 2 2 2 0 2 2 1 1 0 0 1 2 2 0 0 2\n",
            " 1 2 0 2 2 0 2 0 0 0 0 1 2 2 0 1 0 2 1 1 2 1 2 1 0 2 0 0 1 0 0 2 0 0 0 1 2\n",
            " 2 0 2 1 1 2 2 0 2 2 0 0 1 1 1 0 0 2 0 0 2 0 2 2 1 1 2 2 0 0 0 1 2 0 0 2 1\n",
            " 0 2 2 1 1 0 2 2 0 1 2 2 0 1 2 0 2 2 0 2 0 2 2 2 0 1 0 2 2 2 0 0 2 0 0 0 1\n",
            " 0 1 2 0 1 2 2 2 0 2 1 2 1 0 1 0 0 0 2 2 2 0 1 0 0 1 1 1 1 0 1 2 1 2 2 2 2\n",
            " 2 0 1 2 0 2 2 2 0 2 0 2 2 2 0 0 2 2 1 2 2 1 2 2 2 0 1 0 0 1 1 2 0 0 1 2 1\n",
            " 0 2 1 2 2 2 0 0 0 1 2 0 0 2 1 0 2 2 2 0 2 0 2 2 1 0 0 2 2 0 2 1 2 1 0 0 0\n",
            " 0 1 0 2 1 2 0 1 2 1 2 1 1 1 0 0 2 2 2 1 1 0 2 2 0 0 2 2 2 1 0 1 2 2 2 2 0\n",
            " 2 1 0 2 0 0 0 0 1 2 0 1 2 1 1 2 1 2 2 2 2 2 2 1 2 0 2 0 1 2 2 2 2 1 2 2 2\n",
            " 2]\n"
          ],
          "name": "stdout"
        }
      ]
    },
    {
      "cell_type": "markdown",
      "metadata": {
        "id": "p7AXLyE7TStG"
      },
      "source": [
        "6. Вычислите у какого числа объектов изменилась метка предсказываемого кластера при изменении гиперпараметра n_iters с 5 до 100"
      ]
    },
    {
      "cell_type": "code",
      "metadata": {
        "id": "nhAkY7U3Tbv4",
        "colab": {
          "base_uri": "https://localhost:8080/"
        },
        "outputId": "e3f3ffbb-e1f8-42be-8104-ad7e6948f4b1"
      },
      "source": [
        "count = 0\n",
        "for i in range(len(hundred_iters)):\n",
        "  if hundred_iters[i] != five_iters[i]:\n",
        "    count += 1\n",
        "print(count)"
      ],
      "execution_count": null,
      "outputs": [
        {
          "output_type": "stream",
          "text": [
            "17\n"
          ],
          "name": "stdout"
        }
      ]
    },
    {
      "cell_type": "markdown",
      "metadata": {
        "id": "X2m3cpRsTb8f"
      },
      "source": [
        "7. Определите за сколько итераций сошелся алгоритм на объектах noisy_blobs?"
      ]
    },
    {
      "cell_type": "code",
      "metadata": {
        "colab": {
          "base_uri": "https://localhost:8080/"
        },
        "id": "_NQwTkx9zost",
        "outputId": "c3c84f53-e7ae-4a5a-a95f-bd6b67841af2"
      },
      "source": [
        "mymk = MyKMeans(n_clusters=3, n_iters=900)\n",
        "mymk.fit(X)\n",
        "some_iters = mymk.predict(X)\n",
        "\n",
        "count = 0\n",
        "for i in range(len(some_iters)):\n",
        "  if some_iters[i] != hundred_iters[i]:\n",
        "    count += 1\n",
        "print(count)\n",
        "np.random.seed(0)\n",
        "centers = np.random.uniform(low=X.min(axis = 0),\n",
        "                            high=X.max(axis = 0),\n",
        "                            size=(n_clusters, X.shape[1]))\n",
        "for it in range(100):\n",
        "    \n",
        "  ## your code here\n",
        "  centers_objects = {k: [] for k in range(len(centers))}\n",
        "  for i in range(len(X)):\n",
        "    closest_center = pairwise_distances_argmin(X[i].reshape(1, -1), centers)[0]\n",
        "    centers_objects[closest_center].append(i)\n",
        "  new_centers = []\n",
        "  coords_number = len(X[0])\n",
        "  for i in range(len(centers)):\n",
        "    sum_values = [0.0] * coords_number\n",
        "    for j in range(len(centers_objects[i])):\n",
        "      for k in range(coords_number):\n",
        "        sum_values[k] += X[centers_objects[i][j]][k]\n",
        "    mean_values = [m/len(centers_objects[i]) for m in sum_values]\n",
        "    new_centers.append(mean_values)\n",
        "        \n",
        "  if np.all(centers == new_centers):\n",
        "    print('it:', it)\n",
        "    break\n",
        "\n",
        "  centers = new_centers"
      ],
      "execution_count": null,
      "outputs": [
        {
          "output_type": "stream",
          "text": [
            "0\n",
            "it: 10\n"
          ],
          "name": "stdout"
        }
      ]
    },
    {
      "cell_type": "code",
      "metadata": {
        "id": "2pfPsKRxTc4r"
      },
      "source": [
        "## your code here"
      ],
      "execution_count": null,
      "outputs": []
    },
    {
      "cell_type": "markdown",
      "metadata": {
        "id": "rl2LmchQTh6M"
      },
      "source": [
        "## DBSCAN"
      ]
    },
    {
      "cell_type": "markdown",
      "metadata": {
        "id": "N-XaywRJToyT"
      },
      "source": [
        "8. Кластеризуйте объекты noisy_blobs с помощью DBSCAN. Используйте реализацию DBSCAN из sklearn. Зафиксируйте гиперпараметр eps=0.5. Укажите ответ для объекта с индексом 1."
      ]
    },
    {
      "cell_type": "code",
      "metadata": {
        "id": "mSvhyVXZTjR5",
        "colab": {
          "base_uri": "https://localhost:8080/"
        },
        "outputId": "52fcaa46-a2f3-4019-e1c4-7f7f669aa7e7"
      },
      "source": [
        "from sklearn.cluster import DBSCAN\n",
        "\n",
        "db = DBSCAN(eps=0.5)\n",
        "print(db.fit_predict(X))"
      ],
      "execution_count": null,
      "outputs": [
        {
          "output_type": "stream",
          "text": [
            "[ 0  0  0  0  0  0  0  0 -1  0  0  0  0  0  0 -1  0  6  0  0  0 -1  0  0\n",
            "  0  0  0  0 -1  1  0  0  0  0  0 -1  0  0  2  0  0 -1  0 -1  0 -1  0  0\n",
            "  0  0  0  0  3  0  0  0  4  0  0 -1  0  0  0  0  0  0  0  5  0  0  0  0\n",
            "  0  0  0  0  0  0  0  0  0  0  0  0  0  0  0 -1  0  0  0  0 -1  0  0  0\n",
            "  0 -1  0  0  0  0  0  8  0  0  0  0  1 -1  0  0  0  2  0  0  0  0  0 -1\n",
            "  0  4  0  0  0  0  0  0  0  0  0  0  0  0  0  0  0 -1  0  0  0  0  0  0\n",
            "  0  0  0  0  0  0  0  0  0  0  0  0  0 -1  0  0  0  0  0  0  0  0  0  0\n",
            "  0  5  4  0  0  0  0  0 -1  0  0  0  0  0  0 -1  0  0  0  0  0  0 -1  0\n",
            " -1  0  0  0  0  0  6  7  0  0 -1  0  0  0  0  0 -1  0  0  0  0  0  0  0\n",
            "  0  0  0  0  0  0  0  0  0 -1  0  0  0  0  0  0  0 -1  0 -1  0 -1  0  0\n",
            "  0  0  0  0  0  0  0  0 -1 -1  0 -1  0  0 -1  0  0  0  0  7  0  4  9 -1\n",
            "  0 -1  0  0  0  0  0 -1  0  0  0  0  0  0  0  0 -1  0 -1  3 -1  0  0  0\n",
            " -1  0  0  0  0 -1 -1  0  0 -1  0  5  0 -1  8  0  0  0  1  0  0  0  0  0\n",
            "  0  0  0 -1  0  0  0 -1  0  0  0  0  0  0 -1  0  0  0 -1  0  0  0  0  0\n",
            "  0  0  0  5  0  0 -1  0  9 -1  0 -1  0  0  0  0  0  0  0  0  0  0  0  0\n",
            "  7  0  0  3  0  0  0  0  0  3  0 -1 -1  0  0  0  0  0  0  0  0  0  0 -1\n",
            " -1  0  0 -1  0 10  0  0  0  0  0  0  0  0 -1 -1  4  0  0  0 -1  0  0  5\n",
            "  0  0  0  0  0  0  0  0  0 -1 -1  0  0  0 -1  0  0  6  0  0  7  0  0  0\n",
            "  0  0  0 -1  0  0  0 -1  0 -1  0  0  0  0 -1  0  4  0  0 -1  0  0  0  0\n",
            "  1  0  0  0  0  0  0 -1  0  0  0  0  0  0  0  0 -1  0 -1  0  0  0  0  0\n",
            " -1  0  0  0 -1  0  4 -1  0  0  9  0  0  0 -1 -1  0  0  0  0  0  0  0 -1\n",
            "  0  0 -1  0  0  0  0  0 -1 -1  0  0  0  0  0  0  0  0  0 -1  0 -1  0 -1\n",
            "  0  0 -1  0  1  0  0  0  0  0  0  0  0  0 -1  0  0  0  0  0 -1  0  0 -1\n",
            "  0  0  0  6  0  0  0  0  4  4  0  0  0 -1 -1 -1  0  0  0 10  0 -1 -1  0\n",
            "  0 -1  0  0 -1  0  0 -1  0  0  0  0 -1  0  0  0  0  0 -1  0  0  0  0  0\n",
            "  0 -1  0  3  0  0  0  0  5  0  0  0  0  5  4  0  0  0  0  0  0  0  0  0\n",
            "  0  0 -1  0  0  0  0  0  0  0  0  4  0 -1  0  0 -1  0  0  0  0  0  0  0\n",
            "  0  0  0  0  0  0  0 -1  0  0  0  0  0  0  0  2  9  0  0  3  0  0  0 -1\n",
            "  8  0  0  0 -1  0  0  0  0  0  0  0  3  0  0  0  0  0  0  0  0  5 -1  0\n",
            "  0 -1  0 -1  0  0  0 -1  0  0 -1  0  0  0  0  0  0  0  5  2  0  0 -1  0\n",
            "  0 10  9  0  5  0 -1  0  0  0  0  5  0  0  0  0  0  0  1  0  0  0  0  0\n",
            "  1  0  0  0  0  0  0  0 -1 10 -1  0  0  0  0  0  6  0  0  0 -1  6  0  0\n",
            "  0 -1  0 10  0  0 -1  0 -1  0  0  0  6 -1  0  0  0  0 -1  0  0  0 -1  0\n",
            "  0  0  0  0  0  0  0  0  0  0 -1  3  0  0  0  0  0  0  0  0  0 -1  0 -1\n",
            "  0  0  0  0  0  0  0  0 -1  0  0  0  0  0  0  0 -1  0  0  0 -1  0  0  0\n",
            " -1 -1 -1  0 -1  0 -1  0 -1  0  0  2  0 -1  0  0  0  0  0  0  0 -1  0  0\n",
            "  0  0  0  0  0 -1  0 -1  8  0  0  0  3 10  0  0  0 -1  0  0  0 -1  0  0\n",
            "  0  0 -1  0  0  0  0  0  0 -1  0  0  0  2  8  0  6  0  0  0  0  0  2  0\n",
            " -1  0  0  0 -1  0  0  3  0  0  0  0  0  0 -1  0  0 -1  0  0 -1  0  5  0\n",
            " -1 -1 -1  0  0  0  0  0  0  4 -1  0  0  0  0  0  0  0  3  0 -1  0  0  0\n",
            "  0  0  0 -1  0  0  0  3  0  0  4 -1  0  0  0 -1 -1  0  1  0  0  0  0  0\n",
            "  0  8  0  0  0  0 -1  0  0  0  0  0  0 -1  0  0]\n"
          ],
          "name": "stdout"
        },
        {
          "output_type": "execute_result",
          "data": {
            "text/plain": [
              "1000"
            ]
          },
          "metadata": {
            "tags": []
          },
          "execution_count": 83
        }
      ]
    },
    {
      "cell_type": "markdown",
      "metadata": {
        "id": "N8tEMGZ5T4xY"
      },
      "source": [
        "9. Укажите полученное число кластеров?"
      ]
    },
    {
      "cell_type": "code",
      "metadata": {
        "id": "gWI0bFZWT6qR",
        "colab": {
          "base_uri": "https://localhost:8080/"
        },
        "outputId": "56fa3f1b-6998-402c-a9fd-233900f5daad"
      },
      "source": [
        "set(db.fit_predict(X).tolist())"
      ],
      "execution_count": null,
      "outputs": [
        {
          "output_type": "execute_result",
          "data": {
            "text/plain": [
              "{-1, 0, 1, 2, 3, 4, 5, 6, 7, 8, 9, 10}"
            ]
          },
          "metadata": {
            "tags": []
          },
          "execution_count": 102
        }
      ]
    },
    {
      "cell_type": "markdown",
      "metadata": {
        "id": "XgF0L6EBT9no"
      },
      "source": [
        "10. Сколько объектов было отнечено к выбросам (имеют метку -1)?"
      ]
    },
    {
      "cell_type": "code",
      "metadata": {
        "id": "qTRp17L8T-Lh",
        "colab": {
          "base_uri": "https://localhost:8080/"
        },
        "outputId": "6a3646ff-b108-4be5-c520-4c9cfb1b7cf8"
      },
      "source": [
        "db.fit_predict(X).tolist().count(-1)"
      ],
      "execution_count": null,
      "outputs": [
        {
          "output_type": "execute_result",
          "data": {
            "text/plain": [
              "152"
            ]
          },
          "metadata": {
            "tags": []
          },
          "execution_count": 85
        }
      ]
    }
  ]
}