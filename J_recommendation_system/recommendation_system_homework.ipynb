{
  "nbformat": 4,
  "nbformat_minor": 0,
  "metadata": {
    "colab": {
      "name": "HW11 Recsys.ipynb\"",
      "provenance": [],
      "collapsed_sections": [],
      "machine_shape": "hm"
    },
    "kernelspec": {
      "name": "python3",
      "display_name": "Python 3"
    }
  },
  "cells": [
    {
      "cell_type": "markdown",
      "metadata": {
        "id": "ychQcodwwgfp"
      },
      "source": [
        "В этом задании мы найдем похожие фильмы и пользователей по алгоритму ALS, реализуем подсчет метрики NDCG и исследуем влияние размерности скрытых представлений на работу алгоритма."
      ]
    },
    {
      "cell_type": "markdown",
      "metadata": {
        "id": "KGJjO0IwxAfE"
      },
      "source": [
        "Загрузим данные и модели из семинара:\n",
        "\n",
        "**Важно: не изменяйте код до задания 1!**"
      ]
    },
    {
      "cell_type": "code",
      "metadata": {
        "id": "HLW7bd6zw9zr"
      },
      "source": [
        "import zipfile\n",
        "from collections import defaultdict, Counter\n",
        "import datetime\n",
        "\n",
        "from scipy import linalg\n",
        "import numpy as np"
      ],
      "execution_count": null,
      "outputs": []
    },
    {
      "cell_type": "code",
      "metadata": {
        "id": "zEjB8eDVxLHT",
        "colab": {
          "base_uri": "https://localhost:8080/"
        },
        "outputId": "22205c9c-0594-4503-c571-364cc74957a5"
      },
      "source": [
        "!wget http://files.grouplens.org/datasets/movielens/ml-1m.zip"
      ],
      "execution_count": null,
      "outputs": [
        {
          "output_type": "stream",
          "text": [
            "--2021-05-18 06:19:41--  http://files.grouplens.org/datasets/movielens/ml-1m.zip\n",
            "Resolving files.grouplens.org (files.grouplens.org)... 128.101.65.152\n",
            "Connecting to files.grouplens.org (files.grouplens.org)|128.101.65.152|:80... connected.\n",
            "HTTP request sent, awaiting response... 200 OK\n",
            "Length: 5917549 (5.6M) [application/zip]\n",
            "Saving to: ‘ml-1m.zip’\n",
            "\n",
            "ml-1m.zip           100%[===================>]   5.64M  18.4MB/s    in 0.3s    \n",
            "\n",
            "2021-05-18 06:19:41 (18.4 MB/s) - ‘ml-1m.zip’ saved [5917549/5917549]\n",
            "\n"
          ],
          "name": "stdout"
        }
      ]
    },
    {
      "cell_type": "code",
      "metadata": {
        "id": "CtB8oYg7qBzn"
      },
      "source": [
        "# read data\n",
        "movies = {} # id\n",
        "users = {} # id\n",
        "ratings = defaultdict(list) # user-id\n",
        "\n",
        "with zipfile.ZipFile(\"ml-1m.zip\", \"r\") as z:\n",
        "    # parse movies\n",
        "    with z.open(\"ml-1m/movies.dat\") as m:\n",
        "        for line in m:\n",
        "            MovieID, Title, Genres = line.decode('iso-8859-1').strip().split(\"::\")\n",
        "            MovieID = int(MovieID)\n",
        "            Genres = Genres.split(\"|\")\n",
        "            movies[MovieID] = {\"Title\": Title, \"Genres\": Genres}\n",
        "    \n",
        "    # parse users\n",
        "    with z.open(\"ml-1m/users.dat\") as m:\n",
        "        fields = [\"UserID\", \"Gender\", \"Age\", \"Occupation\", \"Zip-code\"]\n",
        "        for line in m:\n",
        "            row = list(zip(fields, line.decode('iso-8859-1').strip().split(\"::\")))\n",
        "            data = dict(row[1:])\n",
        "            data[\"Occupation\"] = int(data[\"Occupation\"])\n",
        "            users[int(row[0][1])] = data\n",
        "    \n",
        "    # parse ratings\n",
        "    with z.open(\"ml-1m/ratings.dat\") as m:\n",
        "        for line in m:\n",
        "            UserID, MovieID, Rating, Timestamp = line.decode('iso-8859-1').strip().split(\"::\")\n",
        "            UserID = int(UserID)\n",
        "            MovieID = int(MovieID)\n",
        "            Rating = int(Rating)\n",
        "            Timestamp = int(Timestamp)\n",
        "            ratings[UserID].append((MovieID, Rating, datetime.datetime.fromtimestamp(Timestamp)))"
      ],
      "execution_count": null,
      "outputs": []
    },
    {
      "cell_type": "code",
      "metadata": {
        "id": "x-JKj56U3myp",
        "colab": {
          "base_uri": "https://localhost:8080/"
        },
        "outputId": "62f0677e-c664-48b9-b79f-9e7eab5d6609"
      },
      "source": [
        "# train-test split\n",
        "times = []\n",
        "for user_ratings in ratings.values():\n",
        "  times.extend([x[2] for x in user_ratings])\n",
        "times = sorted(times)\n",
        "threshold_time = times[int(0.8 * len(times))]\n",
        "\n",
        "train = []\n",
        "test = []\n",
        "for user_id, user_ratings in ratings.items():\n",
        "    train.extend((user_id, rating[0], rating[1] / 5.0) for rating in user_ratings if rating[2] <= threshold_time)\n",
        "    test.extend((user_id, rating[0], rating[1] / 5.0) for rating in user_ratings if rating[2] > threshold_time)\n",
        "print(\"ratings in train:\", len(train))\n",
        "print(\"ratings in test:\", len(test))"
      ],
      "execution_count": null,
      "outputs": [
        {
          "output_type": "stream",
          "text": [
            "ratings in train: 800168\n",
            "ratings in test: 200041\n"
          ],
          "name": "stdout"
        }
      ]
    },
    {
      "cell_type": "code",
      "metadata": {
        "id": "RNp-TT5M5JxM"
      },
      "source": [
        "train_by_user = defaultdict(list)\n",
        "test_by_user = defaultdict(list)\n",
        "for u, i, r in train:\n",
        "    train_by_user[u].append((i, r))\n",
        "for u, i, r in test:\n",
        "    test_by_user[u].append((i, r))\n",
        "\n",
        "train_by_item = defaultdict(list)\n",
        "for u, i, r in train:\n",
        "    train_by_item[i].append((u, r))\n",
        "\n",
        "n_users = max([e[0] for e in train]) + 1\n",
        "n_items = max([e[1] for e in train]) + 1"
      ],
      "execution_count": null,
      "outputs": []
    },
    {
      "cell_type": "code",
      "metadata": {
        "id": "uUOWdv1nraZ0",
        "colab": {
          "base_uri": "https://localhost:8080/"
        },
        "outputId": "6e3ca8e1-48a4-4275-f041-50b7d97a615d"
      },
      "source": [
        "# Реализация ALS из семинара\n",
        "np.random.seed(0)\n",
        "LATENT_SIZE = 10\n",
        "N_ITER = 20\n",
        "\n",
        "# регуляризаторы\n",
        "lambda_p = 0.2\n",
        "lambda_q = 0.001\n",
        "\n",
        "# латентные представления\n",
        "p = 0.1 * np.random.random((n_users, LATENT_SIZE))\n",
        "q = 0.1 * np.random.random((n_items, LATENT_SIZE))\n",
        "\n",
        "\n",
        "def compute_p(p, q, train_by_user):\n",
        "    for u, rated in train_by_user.items():\n",
        "        rated_items = [i for i, _ in rated]\n",
        "        rated_scores = np.array([r for _, r in rated])\n",
        "        Q = q[rated_items, :]\n",
        "        A = (Q.T).dot(Q)\n",
        "        d = (Q.T).dot(rated_scores)\n",
        "        p[u, :] = np.linalg.solve(lambda_p * len(rated_items) * np.eye(LATENT_SIZE) + A, d)\n",
        "    return p\n",
        "\n",
        "def compute_q(p, q, train_by_item):\n",
        "    for i, rated in train_by_item.items():\n",
        "        rated_users = [j for j, _ in rated]\n",
        "        rated_scores = np.array([s for _, s in rated])\n",
        "        P = p[rated_users, :]\n",
        "        A = (P.T).dot(P)\n",
        "        d = (P.T).dot(rated_scores)\n",
        "        q[i, :] = np.linalg.solve(lambda_q * len(rated_users) * np.eye(LATENT_SIZE) + A, d)\n",
        "    return q\n",
        "\n",
        "def train_error_mse(predictions):\n",
        "    return np.mean([(predictions[u, i] - r) ** 2 for u, i, r in train])\n",
        "\n",
        "def test_error_mse(predictions):\n",
        "    return np.mean([(predictions[u, i] - r) ** 2 for u, i, r in test])\n",
        "\n",
        "\n",
        "for iter in range(N_ITER):\n",
        "    p = compute_p(p, q, train_by_user)\n",
        "    q = compute_q(p, q, train_by_item)\n",
        "\n",
        "    predictions = p.dot(q.T)\n",
        "    \n",
        "    print(iter, train_error_mse(predictions), test_error_mse(predictions))"
      ],
      "execution_count": null,
      "outputs": [
        {
          "output_type": "stream",
          "text": [
            "0 0.03425406699095001 0.16161048497212951\n",
            "1 0.030645740984182004 0.15155084906221652\n",
            "2 0.02704533432715112 0.1438473404049406\n",
            "3 0.025813288873051222 0.13697314498990507\n",
            "4 0.025347613143060384 0.13077566964080353\n",
            "5 0.025096380135403478 0.12524794035311046\n",
            "6 0.024934047526840687 0.1203100891656011\n",
            "7 0.024820279964542055 0.11587970123247354\n",
            "8 0.024737480905353878 0.11188957847429631\n",
            "9 0.02467735003476034 0.10828592317903525\n",
            "10 0.024634483994446357 0.10502502426863121\n",
            "11 0.024604361404763436 0.1020701490855293\n",
            "12 0.024583346331205878 0.09938950190571309\n",
            "13 0.0245687550997932 0.09695506282023518\n",
            "14 0.024558698531058906 0.09474199207447905\n",
            "15 0.024551877533063884 0.09272824318660156\n",
            "16 0.02454739123798564 0.09089423607528803\n",
            "17 0.02454460512475215 0.08922255977615282\n",
            "18 0.02454306682449279 0.08769769701279079\n",
            "19 0.024542448316282727 0.08630578168734003\n"
          ],
          "name": "stdout"
        }
      ]
    },
    {
      "cell_type": "markdown",
      "metadata": {
        "id": "jHSZg06G6nzZ"
      },
      "source": [
        "## Задание 1\n",
        "\n",
        "Для фильма \"Star Wars: Episode V - The Empire Strikes Back (1980)\" найдите 3 самых похожих фильма: \n",
        "* посчитайте скалярное произведение его эмбеддинга с остальными фильмами;\n",
        "* найдите максимальные значения - они будут соответствовать ближайшим фильмам;\n",
        "* вычислите значение id_top1+id_top2+id_top3.\n",
        "\n",
        "Для решения задания вам пригодится словарь со всеми фильмами `movies`"
      ]
    },
    {
      "cell_type": "code",
      "metadata": {
        "colab": {
          "base_uri": "https://localhost:8080/"
        },
        "id": "NlO0FMdMIPXF",
        "outputId": "c0a6ab23-acf0-4b94-cbbd-70e63280d0e2"
      },
      "source": [
        "movies[1196]"
      ],
      "execution_count": null,
      "outputs": [
        {
          "output_type": "execute_result",
          "data": {
            "text/plain": [
              "{'Genres': ['Action', 'Adventure', 'Drama', 'Sci-Fi', 'War'],\n",
              " 'Title': 'Star Wars: Episode V - The Empire Strikes Back (1980)'}"
            ]
          },
          "metadata": {
            "tags": []
          },
          "execution_count": 7
        }
      ]
    },
    {
      "cell_type": "code",
      "metadata": {
        "id": "s0C7tKokDAin",
        "colab": {
          "base_uri": "https://localhost:8080/"
        },
        "outputId": "0989536d-c239-4b13-c758-2cb58d7feee0"
      },
      "source": [
        "len([x for x in list(movies.keys()) if x < 1196])"
      ],
      "execution_count": null,
      "outputs": [
        {
          "output_type": "execute_result",
          "data": {
            "text/plain": [
              "1178"
            ]
          },
          "metadata": {
            "tags": []
          },
          "execution_count": 8
        }
      ]
    },
    {
      "cell_type": "code",
      "metadata": {
        "colab": {
          "base_uri": "https://localhost:8080/"
        },
        "id": "JPYxRbDlJGh7",
        "outputId": "08ae03a7-e029-4da9-b8ff-6f1fce944739"
      },
      "source": [
        "list(movies.keys())[1178]"
      ],
      "execution_count": null,
      "outputs": [
        {
          "output_type": "execute_result",
          "data": {
            "text/plain": [
              "1196"
            ]
          },
          "metadata": {
            "tags": []
          },
          "execution_count": 10
        }
      ]
    },
    {
      "cell_type": "code",
      "metadata": {
        "colab": {
          "base_uri": "https://localhost:8080/"
        },
        "id": "6vUc_n3YQZ1o",
        "outputId": "1a74ac92-dae3-4a8a-eaa9-004bc935a2b5"
      },
      "source": [
        "q[1178]"
      ],
      "execution_count": null,
      "outputs": [
        {
          "output_type": "execute_result",
          "data": {
            "text/plain": [
              "array([0.16272855, 1.26614514, 0.60872235, 0.69415775, 1.03401425,\n",
              "       1.31589285, 1.53875851, 1.4302255 , 1.29870737, 1.13913421])"
            ]
          },
          "metadata": {
            "tags": []
          },
          "execution_count": 50
        }
      ]
    },
    {
      "cell_type": "code",
      "metadata": {
        "id": "pfKouGPKKyCQ"
      },
      "source": [
        "scalarmult = q[1178].dot(q.T)"
      ],
      "execution_count": null,
      "outputs": []
    },
    {
      "cell_type": "code",
      "metadata": {
        "id": "hXyOvCcOrXXh"
      },
      "source": [
        "scalarmult1 = q.dot(q[1178])"
      ],
      "execution_count": null,
      "outputs": []
    },
    {
      "cell_type": "code",
      "metadata": {
        "colab": {
          "base_uri": "https://localhost:8080/"
        },
        "id": "FasaEogmAZ4u",
        "outputId": "e4932c6c-3d5b-40f6-97f6-f7468155ffb4"
      },
      "source": [
        "len(scalarmult)"
      ],
      "execution_count": null,
      "outputs": [
        {
          "output_type": "execute_result",
          "data": {
            "text/plain": [
              "3953"
            ]
          },
          "metadata": {
            "tags": []
          },
          "execution_count": 11
        }
      ]
    },
    {
      "cell_type": "code",
      "metadata": {
        "colab": {
          "base_uri": "https://localhost:8080/"
        },
        "id": "gsqsqYeniPIS",
        "outputId": "feec398d-91a0-4366-c57b-719c167463a9"
      },
      "source": [
        "sum = 0\n",
        "new_list = list(scalarmult)\n",
        "for i in range(3):\n",
        "  max_ind = np.argmax(new_list)\n",
        "  print(max_ind)\n",
        "  sum += max_ind\n",
        "  new_list[max_ind] = 0\n",
        "  # new_list.pop(max_ind)\n",
        "print(sum)"
      ],
      "execution_count": null,
      "outputs": [
        {
          "output_type": "stream",
          "text": [
            "1420\n",
            "1471\n",
            "557\n",
            "3448\n"
          ],
          "name": "stdout"
        }
      ]
    },
    {
      "cell_type": "markdown",
      "metadata": {
        "id": "DIqC8Vvc61oZ"
      },
      "source": [
        "## Задание 2\n",
        "\n",
        "Для пользователя с ID=5472:\n",
        "\n",
        "* Найдите самого похожего, аналогично предыдущему заданию;\n",
        "* Определите количество фильмов, просмотренных обоими пользователями."
      ]
    },
    {
      "cell_type": "code",
      "metadata": {
        "id": "I-nrhZhJJsA3",
        "colab": {
          "base_uri": "https://localhost:8080/"
        },
        "outputId": "c555c372-fee7-4f92-fdca-29b58cdc2f53"
      },
      "source": [
        "users[5472]"
      ],
      "execution_count": null,
      "outputs": [
        {
          "output_type": "execute_result",
          "data": {
            "text/plain": [
              "{'Age': '35', 'Gender': 'M', 'Occupation': 1, 'Zip-code': '27909'}"
            ]
          },
          "metadata": {
            "tags": []
          },
          "execution_count": 82
        }
      ]
    },
    {
      "cell_type": "code",
      "metadata": {
        "id": "6TFM-UtwDPyi"
      },
      "source": [
        "scalar_mult_user = p[5471].dot(p.transpose())"
      ],
      "execution_count": null,
      "outputs": []
    },
    {
      "cell_type": "code",
      "metadata": {
        "id": "bLyEKW14MWyi"
      },
      "source": [
        "scalar_mult_user = list(scalar_mult_user)\n",
        "scalar_mult_user[5471] = 0"
      ],
      "execution_count": null,
      "outputs": []
    },
    {
      "cell_type": "code",
      "metadata": {
        "id": "IydFZBaNOFkn"
      },
      "source": [
        "scalar_mult_user"
      ],
      "execution_count": null,
      "outputs": []
    },
    {
      "cell_type": "code",
      "metadata": {
        "colab": {
          "base_uri": "https://localhost:8080/"
        },
        "id": "BTBqPc-BD3Ko",
        "outputId": "9a7f8ade-46d6-4c58-cebc-c3b5d3dffb1a"
      },
      "source": [
        "len(scalar_mult_user)"
      ],
      "execution_count": null,
      "outputs": [
        {
          "output_type": "execute_result",
          "data": {
            "text/plain": [
              "6041"
            ]
          },
          "metadata": {
            "tags": []
          },
          "execution_count": 48
        }
      ]
    },
    {
      "cell_type": "code",
      "metadata": {
        "colab": {
          "base_uri": "https://localhost:8080/"
        },
        "id": "RybizpeCDj2R",
        "outputId": "658a99f4-9732-4727-ce98-a43c2be92f2e"
      },
      "source": [
        "np.argmax(scalar_mult_user)"
      ],
      "execution_count": null,
      "outputs": [
        {
          "output_type": "execute_result",
          "data": {
            "text/plain": [
              "5471"
            ]
          },
          "metadata": {
            "tags": []
          },
          "execution_count": 49
        }
      ]
    },
    {
      "cell_type": "code",
      "metadata": {
        "colab": {
          "base_uri": "https://localhost:8080/"
        },
        "id": "FZ3nTMnrEUhP",
        "outputId": "fc86e3ff-89cf-42ec-d5d1-de1d0cb5c506"
      },
      "source": [
        "users[5670]"
      ],
      "execution_count": null,
      "outputs": [
        {
          "output_type": "execute_result",
          "data": {
            "text/plain": [
              "{'Age': '18', 'Gender': 'M', 'Occupation': 4, 'Zip-code': '48109'}"
            ]
          },
          "metadata": {
            "tags": []
          },
          "execution_count": 28
        }
      ]
    },
    {
      "cell_type": "code",
      "metadata": {
        "colab": {
          "base_uri": "https://localhost:8080/"
        },
        "id": "-BpI7Hy4GcEx",
        "outputId": "4f075625-0742-437a-cb96-5446df200ddf"
      },
      "source": [
        "len(ratings[5670]) + len(ratings[5472])\n",
        "# 342 if 5471"
      ],
      "execution_count": null,
      "outputs": [
        {
          "output_type": "execute_result",
          "data": {
            "text/plain": [
              "389"
            ]
          },
          "metadata": {
            "tags": []
          },
          "execution_count": 29
        }
      ]
    },
    {
      "cell_type": "markdown",
      "metadata": {
        "id": "Ii1vd6YQ61rc"
      },
      "source": [
        "## Задание 3\n",
        "\n",
        "На лекции была рассмотрена метрика для измерения качества работы рекомендательной системы NDCG. Вам необходимо реализовать подсчет DCG и NDCG и вывести значения из клетки ниже; ответ округлите до тысячных."
      ]
    },
    {
      "cell_type": "code",
      "metadata": {
        "id": "LaBKmDX_MpUM"
      },
      "source": [
        "def DCG_k(ratings_list, k):\n",
        "    '''\n",
        "      ratings_list: np.array(n_items,)\n",
        "      k: int\n",
        "    '''\n",
        "    \n",
        "    pass\n",
        "\n",
        "\n",
        "def NDCG_k(r, k):\n",
        "    '''\n",
        "      ratings_list: np.array(n_items,)\n",
        "      k: int\n",
        "    '''\n",
        "    pass\n",
        "    \n",
        "NDCG_k([5, 5, 4, 5, 2, 4, 5, 3, 5, 5, 2, 3, 0, 0, 1, 2, 2, 3, 0], 5)"
      ],
      "execution_count": null,
      "outputs": []
    },
    {
      "cell_type": "code",
      "metadata": {
        "id": "0sf4R5rlNQGX"
      },
      "source": [
        "from sklearn.metrics import dcg_score, ndcg_score"
      ],
      "execution_count": null,
      "outputs": []
    },
    {
      "cell_type": "code",
      "metadata": {
        "colab": {
          "base_uri": "https://localhost:8080/"
        },
        "id": "eP20JBhJNVKO",
        "outputId": "4673ec9a-28f7-43f8-9c3e-6e1da68e8f58"
      },
      "source": [
        "a = sorted([5, 5, 4, 5, 2, 4, 5, 3, 5, 5, 2, 3, 0, 0, 1, 2, 2, 3, 0], reverse=True)\n",
        "y_true = np.asarray([a])\n",
        "print(y_true)\n",
        "y_score = np.asarray([[5, 5, 4, 5, 2, 4, 5, 3, 5, 5, 2, 3, 0, 0, 1, 2, 2, 3, 0]])\n",
        "ndcg_score(y_true, y_score, k=5)"
      ],
      "execution_count": null,
      "outputs": [
        {
          "output_type": "stream",
          "text": [
            "[[5 5 5 5 5 5 4 4 3 3 3 2 2 2 2 1 0 0 0]]\n"
          ],
          "name": "stdout"
        },
        {
          "output_type": "execute_result",
          "data": {
            "text/plain": [
              "0.8333333333333333"
            ]
          },
          "metadata": {
            "tags": []
          },
          "execution_count": 46
        }
      ]
    }
  ]
}