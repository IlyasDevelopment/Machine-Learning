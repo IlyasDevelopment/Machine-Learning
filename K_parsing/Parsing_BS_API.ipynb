{
  "nbformat": 4,
  "nbformat_minor": 0,
  "metadata": {
    "colab": {
      "name": "Parsing_BS_API.ipynb",
      "provenance": [],
      "collapsed_sections": []
    },
    "kernelspec": {
      "name": "python3",
      "display_name": "Python 3"
    },
    "language_info": {
      "name": "python"
    }
  },
  "cells": [
    {
      "cell_type": "code",
      "metadata": {
        "id": "2Pmqdh1RKf8f"
      },
      "source": [
        "import requests"
      ],
      "execution_count": null,
      "outputs": []
    },
    {
      "cell_type": "code",
      "metadata": {
        "id": "Mh2xRto2QFWV"
      },
      "source": [
        "result = requests.get('http://cbr.ru')\n",
        "html = result.text"
      ],
      "execution_count": null,
      "outputs": []
    },
    {
      "cell_type": "code",
      "metadata": {
        "id": "bNneatGRE2ZR"
      },
      "source": [
        "html"
      ],
      "execution_count": null,
      "outputs": []
    },
    {
      "cell_type": "code",
      "metadata": {
        "id": "vAwULSAHKh7G"
      },
      "source": [
        "import re"
      ],
      "execution_count": null,
      "outputs": []
    },
    {
      "cell_type": "code",
      "metadata": {
        "colab": {
          "base_uri": "https://localhost:8080/"
        },
        "id": "zGshUd2DRUka",
        "outputId": "3e08b1a6-f5bd-4862-8c82-c90944e0fb77"
      },
      "source": [
        "match = re.findall(r'mono-num\">(\\d+,\\d+)', html)\n",
        "print(match)\n",
        "cost_per_euro_today = match[2]\n",
        "cost_per_euro_tomorrow = match[3]\n",
        "print(cost_per_euro_today, cost_per_euro_tomorrow)"
      ],
      "execution_count": null,
      "outputs": [
        {
          "output_type": "stream",
          "text": [
            "['72,5048', '72,2216', '86,7012', '85,9943']\n",
            "86,7012 85,9943\n"
          ],
          "name": "stdout"
        }
      ]
    },
    {
      "cell_type": "code",
      "metadata": {
        "colab": {
          "base_uri": "https://localhost:8080/",
          "height": 195
        },
        "id": "HyPUuqj8E37c",
        "outputId": "a8072a73-00f5-4199-916d-5b37c6de18f2"
      },
      "source": [
        "html = '''\n",
        "Курс евро на сегодня (15 января)\n",
        "составляет 68,7514'''\n",
        "re.search(r'Евро\\D+(\\d+,\\d+)', html, re.IGNORECASE).group(1)"
      ],
      "execution_count": null,
      "outputs": [
        {
          "output_type": "error",
          "ename": "AttributeError",
          "evalue": "ignored",
          "traceback": [
            "\u001b[0;31m---------------------------------------------------------------------------\u001b[0m",
            "\u001b[0;31mAttributeError\u001b[0m                            Traceback (most recent call last)",
            "\u001b[0;32m<ipython-input-8-a9f7dd5dfd66>\u001b[0m in \u001b[0;36m<module>\u001b[0;34m()\u001b[0m\n\u001b[1;32m      2\u001b[0m \u001b[0mКурс\u001b[0m \u001b[0mевро\u001b[0m \u001b[0mна\u001b[0m \u001b[0mсегодня\u001b[0m \u001b[0;34m(\u001b[0m\u001b[0;36m15\u001b[0m \u001b[0mянваря\u001b[0m\u001b[0;34m)\u001b[0m\u001b[0;34m\u001b[0m\u001b[0;34m\u001b[0m\u001b[0m\n\u001b[1;32m      3\u001b[0m составляет 68,7514'''\n\u001b[0;32m----> 4\u001b[0;31m \u001b[0mre\u001b[0m\u001b[0;34m.\u001b[0m\u001b[0msearch\u001b[0m\u001b[0;34m(\u001b[0m\u001b[0;34mr'Евро\\D+(\\d+,\\d+)'\u001b[0m\u001b[0;34m,\u001b[0m \u001b[0mhtml\u001b[0m\u001b[0;34m,\u001b[0m \u001b[0mre\u001b[0m\u001b[0;34m.\u001b[0m\u001b[0mIGNORECASE\u001b[0m\u001b[0;34m)\u001b[0m\u001b[0;34m.\u001b[0m\u001b[0mgroup\u001b[0m\u001b[0;34m(\u001b[0m\u001b[0;36m1\u001b[0m\u001b[0;34m)\u001b[0m\u001b[0;34m\u001b[0m\u001b[0;34m\u001b[0m\u001b[0m\n\u001b[0m",
            "\u001b[0;31mAttributeError\u001b[0m: 'NoneType' object has no attribute 'group'"
          ]
        }
      ]
    },
    {
      "cell_type": "markdown",
      "metadata": {
        "id": "qHnZABGsFflu"
      },
      "source": [
        "Цифра 15 останавливает поиск, так как мы нашли цифру, но после неё не идет запятая."
      ]
    },
    {
      "cell_type": "code",
      "metadata": {
        "colab": {
          "base_uri": "https://localhost:8080/",
          "height": 35
        },
        "id": "EpgLsZqTFmGZ",
        "outputId": "18329956-5f8c-43f0-efb6-b02d13cab411"
      },
      "source": [
        "re.search(r'Евро.*?(\\d+,\\d+)', html, re.IGNORECASE | re.DOTALL).group(1)"
      ],
      "execution_count": null,
      "outputs": [
        {
          "output_type": "execute_result",
          "data": {
            "application/vnd.google.colaboratory.intrinsic+json": {
              "type": "string"
            },
            "text/plain": [
              "'68,7514'"
            ]
          },
          "metadata": {
            "tags": []
          },
          "execution_count": 10
        }
      ]
    },
    {
      "cell_type": "code",
      "metadata": {
        "id": "OvuE0YbHGYzB"
      },
      "source": [
        "https://regex101.com/ для тренировок"
      ],
      "execution_count": null,
      "outputs": []
    },
    {
      "cell_type": "code",
      "metadata": {
        "colab": {
          "base_uri": "https://localhost:8080/"
        },
        "id": "bHjuZ1fHGZ7n",
        "outputId": "41eda0fb-1d99-40f5-bf13-eb33263794df"
      },
      "source": [
        "text = '''\n",
        "Автомобиль с номером А123ВС77 подрезал автомобиль К654НЕ197, \n",
        "спровоцировав ДТП с участем ещё двух иномарок с номерами М542ОР777 и О007ОО77\n",
        "'''\n",
        "\n",
        "pattern = r'[АВЕКМНОРСТУХ]\\d{3}[АВЕКМНОРСТУХ]{2}\\d{2,3}'\n",
        "re.findall(pattern, text)"
      ],
      "execution_count": null,
      "outputs": [
        {
          "output_type": "execute_result",
          "data": {
            "text/plain": [
              "['А123ВС77', 'К654НЕ197', 'М542ОР777', 'О007ОО77']"
            ]
          },
          "metadata": {
            "tags": []
          },
          "execution_count": 14
        }
      ]
    },
    {
      "cell_type": "code",
      "metadata": {
        "colab": {
          "base_uri": "https://localhost:8080/"
        },
        "id": "1aQrb22-Ie1t",
        "outputId": "c8ef47e4-9ada-4e26-d37a-bae902ebceb4"
      },
      "source": [
        "nicknames = ['sU3r_h4XX0r', 'alёna', 'ivan ivanovich']\n",
        "reg = re.compile(r'^\\w+$', re.ASCII)\n",
        "for nick in nicknames:\n",
        "  print('{} nickname: {}'.format('valid' if reg.match(nick) else 'invalid',\n",
        "                                 nick\n",
        "  ))"
      ],
      "execution_count": null,
      "outputs": [
        {
          "output_type": "stream",
          "text": [
            "valid nickname: sU3r_h4XX0r\n",
            "invalid nickname: alёna\n",
            "invalid nickname: ivan ivanovich\n"
          ],
          "name": "stdout"
        }
      ]
    },
    {
      "cell_type": "code",
      "metadata": {
        "colab": {
          "base_uri": "https://localhost:8080/"
        },
        "id": "os1IMBxhKMyF",
        "outputId": "441e083f-f37a-4fd7-f2c8-1a6929bb036c"
      },
      "source": [
        "text = (\n",
        "    'Анна и Лена загорали на берегу океана, '\n",
        "    'когда к ним подошли Яна, ПОЛИНА и Ильнар'\n",
        ")\n",
        "\n",
        "re.findall(r'\\b[А-Я]\\w*(?:на|НА)\\b', text)"
      ],
      "execution_count": null,
      "outputs": [
        {
          "output_type": "execute_result",
          "data": {
            "text/plain": [
              "['Анна', 'Лена', 'Яна', 'ПОЛИНА']"
            ]
          },
          "metadata": {
            "tags": []
          },
          "execution_count": 17
        }
      ]
    },
    {
      "cell_type": "markdown",
      "metadata": {
        "id": "sAna_PweLG2T"
      },
      "source": [
        "?: в скобках означает, что содержимое скобок группируется, но не запоминается"
      ]
    },
    {
      "cell_type": "code",
      "metadata": {
        "colab": {
          "base_uri": "https://localhost:8080/"
        },
        "id": "qTdzYAt1KMs7",
        "outputId": "f129e458-f70b-4cdd-d0a1-07dc415eab7a"
      },
      "source": [
        "text = 'Как защитить металл от процесса коррозии?'\n",
        "\n",
        "re.findall(r'(\\w)\\1', text)"
      ],
      "execution_count": null,
      "outputs": [
        {
          "output_type": "execute_result",
          "data": {
            "text/plain": [
              "['л', 'с', 'р', 'и']"
            ]
          },
          "metadata": {
            "tags": []
          },
          "execution_count": 18
        }
      ]
    },
    {
      "cell_type": "code",
      "metadata": {
        "colab": {
          "base_uri": "https://localhost:8080/",
          "height": 35
        },
        "id": "74x_mrgQL8yS",
        "outputId": "f020ef01-4b4b-4c48-fc46-a212a7131cda"
      },
      "source": [
        "re.sub(r'а', '?', text)\n"
      ],
      "execution_count": null,
      "outputs": [
        {
          "output_type": "execute_result",
          "data": {
            "application/vnd.google.colaboratory.intrinsic+json": {
              "type": "string"
            },
            "text/plain": [
              "'К?к з?щитить мет?лл от процесс? коррозии?'"
            ]
          },
          "metadata": {
            "tags": []
          },
          "execution_count": 27
        }
      ]
    },
    {
      "cell_type": "code",
      "metadata": {
        "colab": {
          "base_uri": "https://localhost:8080/",
          "height": 35
        },
        "id": "BnFA13uNM9Kx",
        "outputId": "2e295da7-5539-458f-d1fb-3b051120b307"
      },
      "source": [
        "re.sub(r'(\\w)\\1', lambda r: r.group(0).upper(), text)"
      ],
      "execution_count": null,
      "outputs": [
        {
          "output_type": "execute_result",
          "data": {
            "application/vnd.google.colaboratory.intrinsic+json": {
              "type": "string"
            },
            "text/plain": [
              "'Как защитить метаЛЛ от процеССа коРРозИИ?'"
            ]
          },
          "metadata": {
            "tags": []
          },
          "execution_count": 24
        }
      ]
    },
    {
      "cell_type": "code",
      "metadata": {
        "colab": {
          "base_uri": "https://localhost:8080/",
          "height": 35
        },
        "id": "Rrh29kwDMwya",
        "outputId": "7cd396af-9ad2-4445-b4e3-99d1fb82dc5e"
      },
      "source": [
        "re.sub(r'\\b(\\w*(\\w)\\2\\w*)\\b', r'[\\1]', text)"
      ],
      "execution_count": null,
      "outputs": [
        {
          "output_type": "execute_result",
          "data": {
            "application/vnd.google.colaboratory.intrinsic+json": {
              "type": "string"
            },
            "text/plain": [
              "'Как защитить [металл] от [процесса] [коррозии]?'"
            ]
          },
          "metadata": {
            "tags": []
          },
          "execution_count": 25
        }
      ]
    },
    {
      "cell_type": "code",
      "metadata": {
        "colab": {
          "base_uri": "https://localhost:8080/",
          "height": 35
        },
        "id": "qJaT6szhOE5Z",
        "outputId": "9eb17e1d-538d-428f-a438-e11e34e562c6"
      },
      "source": [
        "text = '123 44 цифры нужно уменшить на 1'\n",
        "re.sub(r'\\d+', lambda r: str(int(r.group(0))-1), text)"
      ],
      "execution_count": null,
      "outputs": [
        {
          "output_type": "execute_result",
          "data": {
            "application/vnd.google.colaboratory.intrinsic+json": {
              "type": "string"
            },
            "text/plain": [
              "'122 43 цифры нужно уменшить на 0'"
            ]
          },
          "metadata": {
            "tags": []
          },
          "execution_count": 29
        }
      ]
    },
    {
      "cell_type": "markdown",
      "metadata": {
        "id": "jbu0cse5Ihw5"
      },
      "source": [
        "Beautiful Soup"
      ]
    },
    {
      "cell_type": "markdown",
      "metadata": {
        "id": "aFC-iuvwJb6g"
      },
      "source": [
        "Пусть дан следующий html"
      ]
    },
    {
      "cell_type": "markdown",
      "metadata": {
        "id": "5VCM58obJMO2"
      },
      "source": [
        "![Безымянный.png](data:image/png;base64,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)"
      ]
    },
    {
      "cell_type": "code",
      "metadata": {
        "id": "3BVMFh8pJoHQ"
      },
      "source": [
        "from bs4 import BeautifulSoup"
      ],
      "execution_count": null,
      "outputs": []
    },
    {
      "cell_type": "markdown",
      "metadata": {
        "id": "dZD5MsD-Unzp"
      },
      "source": [
        "\n",
        "```\n",
        "soup = BeautifulSoup(html, 'lxml')\n",
        "soup.body.p.b.string # 'bold'\n",
        "soup.p['class'] # ['text', 'odd']\n",
        "soup('p')[1]['class'] # ['text', ['even']\n",
        "```\n"
      ]
    },
    {
      "cell_type": "code",
      "metadata": {
        "id": "A9OZaH75J1_Q"
      },
      "source": [
        "resp = requests.get('https://wikipedia.org')\n",
        "html = resp.text"
      ],
      "execution_count": null,
      "outputs": []
    },
    {
      "cell_type": "code",
      "metadata": {
        "colab": {
          "base_uri": "https://localhost:8080/"
        },
        "id": "ikN76cPHKBH2",
        "outputId": "3a4ceb05-b632-446d-aabd-474082362ebb"
      },
      "source": [
        "re.findall(r'<a[^>]*other-project-link[^>]*href=\"([^\"]*)', html)"
      ],
      "execution_count": null,
      "outputs": [
        {
          "output_type": "execute_result",
          "data": {
            "text/plain": [
              "['//commons.wikimedia.org/',\n",
              " '//www.wikivoyage.org/',\n",
              " '//www.wiktionary.org/',\n",
              " '//www.wikibooks.org/',\n",
              " '//www.wikinews.org/',\n",
              " '//www.wikidata.org/',\n",
              " '//www.wikiversity.org/',\n",
              " '//www.wikiquote.org/',\n",
              " '//www.mediawiki.org/',\n",
              " '//www.wikisource.org/',\n",
              " '//species.wikimedia.org/',\n",
              " '//meta.wikimedia.org/']"
            ]
          },
          "metadata": {
            "tags": []
          },
          "execution_count": 6
        }
      ]
    },
    {
      "cell_type": "code",
      "metadata": {
        "colab": {
          "base_uri": "https://localhost:8080/"
        },
        "id": "3_KOpdsqQYc7",
        "outputId": "c143e7c3-80cd-4823-d96d-5d1d076ff90f"
      },
      "source": [
        "soup = BeautifulSoup(html, 'lxml')\n",
        "tags = soup('a', 'other-project-link')\n",
        "[tag['href'] for tag in tags]"
      ],
      "execution_count": null,
      "outputs": [
        {
          "output_type": "execute_result",
          "data": {
            "text/plain": [
              "['//commons.wikimedia.org/',\n",
              " '//www.wikivoyage.org/',\n",
              " '//www.wiktionary.org/',\n",
              " '//www.wikibooks.org/',\n",
              " '//www.wikinews.org/',\n",
              " '//www.wikidata.org/',\n",
              " '//www.wikiversity.org/',\n",
              " '//www.wikiquote.org/',\n",
              " '//www.mediawiki.org/',\n",
              " '//www.wikisource.org/',\n",
              " '//species.wikimedia.org/',\n",
              " '//meta.wikimedia.org/']"
            ]
          },
          "metadata": {
            "tags": []
          },
          "execution_count": 11
        }
      ]
    },
    {
      "cell_type": "markdown",
      "metadata": {
        "id": "go_uW5EEXqzB"
      },
      "source": [
        "Спарсим новости с сайта mail.ru"
      ]
    },
    {
      "cell_type": "code",
      "metadata": {
        "id": "jMchrNVwUzOl"
      },
      "source": [
        "result = requests.get('https://news.mail.ru')\n",
        "html = result.text\n",
        "soup = BeautifulSoup(html, 'lxml')"
      ],
      "execution_count": null,
      "outputs": []
    },
    {
      "cell_type": "code",
      "metadata": {
        "colab": {
          "base_uri": "https://localhost:8080/"
        },
        "id": "GurSYaGlVBBW",
        "outputId": "14d9db19-9d12-4961-b317-bbaa84e93ebd"
      },
      "source": [
        "[\n",
        " (section.string, \n",
        "  [\n",
        "   link.string for link in section.find_parents()[4].find_all('span', 'link__text')\n",
        "  ]\n",
        "  ) for section in soup.find_all('span', 'hdr__inner')[:-3]\n",
        "]"
      ],
      "execution_count": null,
      "outputs": [
        {
          "output_type": "execute_result",
          "data": {
            "text/plain": [
              "[('Политика',\n",
              "  ['Путин поручил создать программу реабилитации для пациентов, переболевших COVID-19',\n",
              "   'Ибрахим Раиси победил на выборах президента Ирана',\n",
              "   'Блинкен обсудил с главой МИД Польши «угрозу» от «Северного потока-2»']),\n",
              " ('Экономика',\n",
              "  ['В ГД хотят разрешить трем соседям составлять протоколы за шум по ночам',\n",
              "   'Каждый второй клиент банков берет кредитки на всякий случай',\n",
              "   'Взяли за спрос: эксперты назвали обогатившиеся в пандемию отрасли']),\n",
              " ('Общество',\n",
              "  ['Коронавирус: вариант «Дельта» становится доминирующим во всем мире',\n",
              "   'В Новоалтайске выпал град размером со сливу (фото)',\n",
              "   'Школьницы из России завоевали четыре золота на олимпиаде по информатике']),\n",
              " ('События',\n",
              "  ['Следователи проводят проверку по факту крушения самолета в Кемеровской области',\n",
              "   'Количество погибших при крушении самолета в Кемеровской области выросло до семи',\n",
              "   'Самолет потерпел крушение в Кемеровской области'])]"
            ]
          },
          "metadata": {
            "tags": []
          },
          "execution_count": 21
        }
      ]
    },
    {
      "cell_type": "markdown",
      "metadata": {
        "id": "R8H1PdKvII-g"
      },
      "source": [
        "Теперь попробуем использовать API"
      ]
    },
    {
      "cell_type": "markdown",
      "metadata": {
        "id": "1reZCZVp7Hcg"
      },
      "source": [
        "API (application programming interface) — это посредник между разработчиком приложений и какой-либо средой, с которой это приложение должно взаимодействовать. API упрощает создание кода, поскольку предоставляет набор готовых классов, функций или структур для работы с имеющимися данными."
      ]
    },
    {
      "cell_type": "code",
      "metadata": {
        "id": "qYEROiMjILfx"
      },
      "source": [
        "resp = requests.get('http://www.cbr.ru/scripts/XML_daily.asp')\n",
        "soup = BeautifulSoup(resp.content, 'xml')"
      ],
      "execution_count": null,
      "outputs": []
    },
    {
      "cell_type": "code",
      "metadata": {
        "colab": {
          "base_uri": "https://localhost:8080/"
        },
        "id": "z5g2j7kvaVuF",
        "outputId": "0aeecd18-6b56-42d7-8695-c3b5d2077912"
      },
      "source": [
        "soup"
      ],
      "execution_count": null,
      "outputs": [
        {
          "output_type": "execute_result",
          "data": {
            "text/plain": [
              "<?xml version=\"1.0\" encoding=\"utf-8\"?>\n",
              "<ValCurs Date=\"19.06.2021\" name=\"Foreign Currency Market\"><Valute ID=\"R01010\"><NumCode>036</NumCode><CharCode>AUD</CharCode><Nominal>1</Nominal><Name>Австралийский доллар</Name><Value>54,5056</Value></Valute><Valute ID=\"R01020A\"><NumCode>944</NumCode><CharCode>AZN</CharCode><Nominal>1</Nominal><Name>Азербайджанский манат</Name><Value>42,5083</Value></Valute><Valute ID=\"R01035\"><NumCode>826</NumCode><CharCode>GBP</CharCode><Nominal>1</Nominal><Name>Фунт стерлингов Соединенного королевства</Name><Value>100,3808</Value></Valute><Valute ID=\"R01060\"><NumCode>051</NumCode><CharCode>AMD</CharCode><Nominal>100</Nominal><Name>Армянских драмов</Name><Value>13,9410</Value></Valute><Valute ID=\"R01090B\"><NumCode>933</NumCode><CharCode>BYN</CharCode><Nominal>1</Nominal><Name>Белорусский рубль</Name><Value>28,7415</Value></Valute><Valute ID=\"R01100\"><NumCode>975</NumCode><CharCode>BGN</CharCode><Nominal>1</Nominal><Name>Болгарский лев</Name><Value>44,0295</Value></Valute><Valute ID=\"R01115\"><NumCode>986</NumCode><CharCode>BRL</CharCode><Nominal>1</Nominal><Name>Бразильский реал</Name><Value>14,4198</Value></Valute><Valute ID=\"R01135\"><NumCode>348</NumCode><CharCode>HUF</CharCode><Nominal>100</Nominal><Name>Венгерских форинтов</Name><Value>24,2774</Value></Valute><Valute ID=\"R01200\"><NumCode>344</NumCode><CharCode>HKD</CharCode><Nominal>10</Nominal><Name>Гонконгских долларов</Name><Value>93,0223</Value></Valute><Valute ID=\"R01215\"><NumCode>208</NumCode><CharCode>DKK</CharCode><Nominal>1</Nominal><Name>Датская крона</Name><Value>11,5799</Value></Valute><Valute ID=\"R01235\"><NumCode>840</NumCode><CharCode>USD</CharCode><Nominal>1</Nominal><Name>Доллар США</Name><Value>72,2216</Value></Valute><Valute ID=\"R01239\"><NumCode>978</NumCode><CharCode>EUR</CharCode><Nominal>1</Nominal><Name>Евро</Name><Value>85,9943</Value></Valute><Valute ID=\"R01270\"><NumCode>356</NumCode><CharCode>INR</CharCode><Nominal>100</Nominal><Name>Индийских рупий</Name><Value>97,7354</Value></Valute><Valute ID=\"R01335\"><NumCode>398</NumCode><CharCode>KZT</CharCode><Nominal>100</Nominal><Name>Казахстанских тенге</Name><Value>16,8527</Value></Valute><Valute ID=\"R01350\"><NumCode>124</NumCode><CharCode>CAD</CharCode><Nominal>1</Nominal><Name>Канадский доллар</Name><Value>58,4412</Value></Valute><Valute ID=\"R01370\"><NumCode>417</NumCode><CharCode>KGS</CharCode><Nominal>100</Nominal><Name>Киргизских сомов</Name><Value>85,3006</Value></Valute><Valute ID=\"R01375\"><NumCode>156</NumCode><CharCode>CNY</CharCode><Nominal>1</Nominal><Name>Китайский юань</Name><Value>11,2126</Value></Valute><Valute ID=\"R01500\"><NumCode>498</NumCode><CharCode>MDL</CharCode><Nominal>10</Nominal><Name>Молдавских леев</Name><Value>40,4037</Value></Valute><Valute ID=\"R01535\"><NumCode>578</NumCode><CharCode>NOK</CharCode><Nominal>10</Nominal><Name>Норвежских крон</Name><Value>84,4282</Value></Valute><Valute ID=\"R01565\"><NumCode>985</NumCode><CharCode>PLN</CharCode><Nominal>1</Nominal><Name>Польский злотый</Name><Value>18,9354</Value></Valute><Valute ID=\"R01585F\"><NumCode>946</NumCode><CharCode>RON</CharCode><Nominal>1</Nominal><Name>Румынский лей</Name><Value>17,4803</Value></Valute><Valute ID=\"R01589\"><NumCode>960</NumCode><CharCode>XDR</CharCode><Nominal>1</Nominal><Name>СДР (специальные права заимствования)</Name><Value>103,2271</Value></Valute><Valute ID=\"R01625\"><NumCode>702</NumCode><CharCode>SGD</CharCode><Nominal>1</Nominal><Name>Сингапурский доллар</Name><Value>53,8766</Value></Valute><Valute ID=\"R01670\"><NumCode>972</NumCode><CharCode>TJS</CharCode><Nominal>10</Nominal><Name>Таджикских сомони</Name><Value>63,3245</Value></Valute><Valute ID=\"R01700J\"><NumCode>949</NumCode><CharCode>TRY</CharCode><Nominal>10</Nominal><Name>Турецких лир</Name><Value>83,2871</Value></Valute><Valute ID=\"R01710A\"><NumCode>934</NumCode><CharCode>TMT</CharCode><Nominal>1</Nominal><Name>Новый туркменский манат</Name><Value>20,6643</Value></Valute><Valute ID=\"R01717\"><NumCode>860</NumCode><CharCode>UZS</CharCode><Nominal>10000</Nominal><Name>Узбекских сумов</Name><Value>68,2557</Value></Valute><Valute ID=\"R01720\"><NumCode>980</NumCode><CharCode>UAH</CharCode><Nominal>10</Nominal><Name>Украинских гривен</Name><Value>26,5806</Value></Valute><Valute ID=\"R01760\"><NumCode>203</NumCode><CharCode>CZK</CharCode><Nominal>10</Nominal><Name>Чешских крон</Name><Value>33,7642</Value></Valute><Valute ID=\"R01770\"><NumCode>752</NumCode><CharCode>SEK</CharCode><Nominal>10</Nominal><Name>Шведских крон</Name><Value>84,3878</Value></Valute><Valute ID=\"R01775\"><NumCode>756</NumCode><CharCode>CHF</CharCode><Nominal>1</Nominal><Name>Швейцарский франк</Name><Value>78,7071</Value></Valute><Valute ID=\"R01810\"><NumCode>710</NumCode><CharCode>ZAR</CharCode><Nominal>10</Nominal><Name>Южноафриканских рэндов</Name><Value>51,3273</Value></Valute><Valute ID=\"R01815\"><NumCode>410</NumCode><CharCode>KRW</CharCode><Nominal>1000</Nominal><Name>Вон Республики Корея</Name><Value>63,9421</Value></Valute><Valute ID=\"R01820\"><NumCode>392</NumCode><CharCode>JPY</CharCode><Nominal>100</Nominal><Name>Японских иен</Name><Value>65,6292</Value></Valute></ValCurs>"
            ]
          },
          "metadata": {
            "tags": []
          },
          "execution_count": 24
        }
      ]
    },
    {
      "cell_type": "code",
      "metadata": {
        "colab": {
          "base_uri": "https://localhost:8080/",
          "height": 35
        },
        "id": "fUnCRJaTYwT8",
        "outputId": "df011674-0afc-4cdd-c921-160893145b2f"
      },
      "source": [
        "soup.find('CharCode', text='EUR').find_next_sibling('Value').string"
      ],
      "execution_count": null,
      "outputs": [
        {
          "output_type": "execute_result",
          "data": {
            "application/vnd.google.colaboratory.intrinsic+json": {
              "type": "string"
            },
            "text/plain": [
              "'85,9943'"
            ]
          },
          "metadata": {
            "tags": []
          },
          "execution_count": 25
        }
      ]
    },
    {
      "cell_type": "code",
      "metadata": {
        "colab": {
          "base_uri": "https://localhost:8080/",
          "height": 35
        },
        "id": "Fsyjpl6zY2B8",
        "outputId": "df56165c-a009-48c5-d457-35c1f54f0590"
      },
      "source": [
        "soup.find(ID='R01239').Value.string"
      ],
      "execution_count": null,
      "outputs": [
        {
          "output_type": "execute_result",
          "data": {
            "application/vnd.google.colaboratory.intrinsic+json": {
              "type": "string"
            },
            "text/plain": [
              "'85,9943'"
            ]
          },
          "metadata": {
            "tags": []
          },
          "execution_count": 26
        }
      ]
    },
    {
      "cell_type": "code",
      "metadata": {
        "colab": {
          "base_uri": "https://localhost:8080/",
          "height": 35
        },
        "id": "UxsLCtBKY9XU",
        "outputId": "2f38152a-0105-4574-9f75-0a2a967a5af8"
      },
      "source": [
        "resp = requests.get(\n",
        "    'http://api.openweathermap.org/data/2.5/weather',\n",
        "    params={\n",
        "        'q': 'Moscow',\n",
        "        'APPID': '37e655add78b23d166b81161c7834745',\n",
        "        'mode': 'xml', 'units': 'metric'\n",
        "    }\n",
        ")\n",
        "soup = BeautifulSoup(resp.content, 'xml')\n",
        "soup.temperature['value']"
      ],
      "execution_count": null,
      "outputs": [
        {
          "output_type": "execute_result",
          "data": {
            "application/vnd.google.colaboratory.intrinsic+json": {
              "type": "string"
            },
            "text/plain": [
              "'24.91'"
            ]
          },
          "metadata": {
            "tags": []
          },
          "execution_count": 33
        }
      ]
    },
    {
      "cell_type": "code",
      "metadata": {
        "colab": {
          "base_uri": "https://localhost:8080/"
        },
        "id": "fvIeFxFEewnf",
        "outputId": "8f578ea6-5f32-4adb-f317-4693e4a466a9"
      },
      "source": [
        "resp = requests.get(\n",
        "    'http://api.openweathermap.org/data/2.5/weather',\n",
        "    params={\n",
        "        'q': 'Moscow',\n",
        "        'APPID': '37e655add78b23d166b81161c7834745',\n",
        "        'mode': 'json', 'units': 'metric'\n",
        "    }\n",
        ")\n",
        "data = resp.json()\n",
        "data['main']['temp']"
      ],
      "execution_count": null,
      "outputs": [
        {
          "output_type": "execute_result",
          "data": {
            "text/plain": [
              "24.91"
            ]
          },
          "metadata": {
            "tags": []
          },
          "execution_count": 39
        }
      ]
    },
    {
      "cell_type": "markdown",
      "metadata": {
        "id": "zGOI2M_ofPlW"
      },
      "source": [
        "API ВКонтакте"
      ]
    },
    {
      "cell_type": "markdown",
      "metadata": {
        "id": "L8kBndZe6wUZ"
      },
      "source": [
        "https://vk.com/dev/first_guide"
      ]
    }
  ]
}